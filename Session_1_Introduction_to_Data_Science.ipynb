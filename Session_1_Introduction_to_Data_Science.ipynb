{
  "nbformat": 4,
  "nbformat_minor": 0,
  "metadata": {
    "colab": {
      "name": "Session 1: Introduction to Data Science",
      "provenance": []
    },
    "kernelspec": {
      "name": "python3",
      "display_name": "Python 3"
    }
  },
  "cells": [
    {
      "cell_type": "markdown",
      "metadata": {
        "id": "xjLDJlqUSSrw"
      },
      "source": [
        "[![Open In Colab](https://colab.research.google.com/assets/colab-badge.svg)](https://colab.research.google.com/github/MattFinney/practical_data_science_in_python/blob/main/Session_1_Introduction_to_Data_Science.ipynb)\n",
        "\n",
        "# Introduction to Data Science\n",
        "## Core Concepts and Exploratory Data Analysis\n",
        "Authors: Paulina Toro Isaza, Matthew Finney\n"
      ]
    },
    {
      "cell_type": "markdown",
      "metadata": {
        "id": "J8V_m32NjX8q"
      },
      "source": [
        "---"
      ]
    },
    {
      "cell_type": "markdown",
      "metadata": {
        "id": "2VvXMpWESnEb"
      },
      "source": [
        "## Agenda\n",
        "\n",
        "1.   What is Data Science?\n",
        "2.   Concepts and Methods\n",
        "3.   Deep Dive: Music Recommendation\n",
        "4.   Demo: Exploratory Data Analysis in Python"
      ]
    },
    {
      "cell_type": "markdown",
      "metadata": {
        "id": "Rdt3Ygx9jaaI"
      },
      "source": [
        "---"
      ]
    },
    {
      "cell_type": "markdown",
      "metadata": {
        "id": "G7GxJ5LLTDJi"
      },
      "source": [
        "## What is Data Science?\n",
        "\n",
        "![image.png](https://imgur.com/maii0F6.png)\n",
        "\n",
        "\n",
        "Source: [A New Venn Diagram by Pierluigi Casale](https://open-dse.github.io/new-venn-diagram/)\n",
        "\n"
      ]
    },
    {
      "cell_type": "markdown",
      "metadata": {
        "id": "rwES8MoFlps7"
      },
      "source": [
        "### The Data Science Process\n",
        "\n",
        "![data_iceberg.png](https://imgur.com/pxivm3x.png)\n",
        "\n",
        "1. Formulate your Question\n",
        "2. Get, Clean, and Transform the Data\n",
        "3. Explore the Data\n",
        "4. Model the Data\n",
        "5. Communicate the Results"
      ]
    },
    {
      "cell_type": "markdown",
      "metadata": {
        "id": "T8rBdMBvjNtR"
      },
      "source": [
        "### Applications\n",
        "\n",
        "*   Why does a video or meme go viral?\n",
        "*   How can we better identify and predict disease?\n",
        "*   Recommendation systems for music, movies, and other products\n",
        "*   Language translation"
      ]
    },
    {
      "cell_type": "markdown",
      "metadata": {
        "id": "51kqschjjbvJ"
      },
      "source": [
        "---"
      ]
    },
    {
      "cell_type": "markdown",
      "metadata": {
        "id": "V0NwrYbcVvZJ"
      },
      "source": [
        "## Concepts, Methods, and Applications\n"
      ]
    },
    {
      "cell_type": "markdown",
      "metadata": {
        "id": "CFYVlGJ3Ztx1"
      },
      "source": [
        "### Concepts\n",
        "\n",
        "#### Predicting vs. Explaining\n",
        "\n",
        "**Predicting**: Estimate some value based on input data.\n",
        "\n",
        "> What will be the box office opening for a film?\n",
        "\n",
        "**Explaining**: Determine how factors affect a particular outcome.\n",
        "\n",
        "> What factors influence the box office opening of a film?  \n",
        "\n",
        "---\n",
        "\n",
        "#### Supervised vs. Unsupervised\n",
        "\n",
        "**Supervised**: We know the \"true\" values of our output data.\n",
        "\n",
        "> What is the genre of a book?\n",
        "\n",
        "In the supervised case, each book will already be assigned a particular genre such as mystery, romance, fantasy, or memoir. Our model will be taught to predict the genre and our predictions will be compared to the \"true\" genre.\n",
        "\n",
        "**Unsupervised**: We don't know the \"true\" values of our output data.\n",
        "\n",
        "> What groupings differentiate between types of books best?\n",
        "\n",
        "In the unsupervised case, our books are not already labelled with a genre. Instead, our model will try to create it's own labels based on whatever characteristics we pass in. Our results might mimic traditional genres or might show some unexpected groupings that challenge our notion of traditional genres!\n",
        "\n",
        "--- \n",
        "\n",
        "#### Regression vs. Classification\n",
        "\n",
        "**Regression**: The response variable for what we are trying to predict or explain is numerical. \n",
        "\n",
        "> How many views do we expect a particular YouTube video to have based on its title, thumbnail, subscriber count for the channel, and view count of the previous video on the channel?\n",
        "\n",
        "**Classification**: The response variable for what we are trying to predict or explain is categorical. \n",
        "\n",
        "> How can we predict that a YouTube video is not suitable for children under 13 based on title and thumbnail?\n"
      ]
    },
    {
      "cell_type": "markdown",
      "metadata": {
        "id": "fj0IQxiRLYdh"
      },
      "source": [
        "---"
      ]
    },
    {
      "cell_type": "markdown",
      "metadata": {
        "id": "pc4BtR6ejKTB"
      },
      "source": [
        "### Methods\n",
        "\n",
        "![methods.png](https://imgur.com/7mlirpP.png)"
      ]
    },
    {
      "cell_type": "markdown",
      "metadata": {
        "id": "e8V6kSq61eSo"
      },
      "source": [
        "---"
      ]
    },
    {
      "cell_type": "markdown",
      "metadata": {
        "id": "yZcByp0YZ0Jg"
      },
      "source": [
        "## Deep Dive: Music Recommendation\n",
        "\n",
        "### Context\n",
        "\n",
        "What happens when you reach the end of a playlist on platforms like Spotify or Youtube? Do you find yourself skipping the next song or did the platform give you a good follow-up to what you were listening to?\n",
        "\n",
        "### Goal: How can we use data science methods to create playlists of similar songs?\n",
        "\n",
        "#### Methods\n",
        "\n",
        "**Unsupervised learning**: Our dataset does not contain any information about playlists or genres, so data is unlabeled. We don't know the \"true\" values of the genre or playlist.\n",
        "\n",
        "**Dimension Reduction**: Our dataset contains about a dozen audio features used to describe a single song. Because it's hard to visualize information in more than three dimensions, we might want to reduce the number of dimensions in some way. \n",
        "\n",
        "**Classification**: This might sound like a classification problem because we want to classify songs as belonging to different playlists (genres). However, we usually talk about classification methods as those done in supervised learning.\n",
        "\n",
        "**Clustering**: We'll be using this machine learning algorithm to partition the dataset into a pre-defined number of groups. The partitions do no rely on knowing the \"true\" values of the groups.\n",
        "\n"
      ]
    },
    {
      "cell_type": "markdown",
      "metadata": {
        "id": "ufNBSfNpLbsy"
      },
      "source": [
        "---"
      ]
    },
    {
      "cell_type": "markdown",
      "metadata": {
        "id": "eh2N-E5hZ35b"
      },
      "source": [
        "## Demo: Exploratory Data Analysis in Python"
      ]
    },
    {
      "cell_type": "markdown",
      "metadata": {
        "id": "-Wje56IXZpdx"
      },
      "source": [
        "#### Importing Libraries"
      ]
    },
    {
      "cell_type": "markdown",
      "metadata": {
        "id": "ASiKzSCUHqZm"
      },
      "source": [
        "We need to tell Python what kind of functionality we want for our code. Instead of loading every single possible functionality, Python works by *importing* particular libraries so that we only have access to what's necessary.\n",
        "\n",
        "There are many libraries such as those working with websites, audio, or social networks. But ince we are going to be working with data, we want to only import data related libraries. "
      ]
    },
    {
      "cell_type": "code",
      "metadata": {
        "id": "5gZQIUYe8Mr0",
        "outputId": "a451448b-6ccb-4912-a0d5-1a45618a8d2a",
        "colab": {
          "base_uri": "https://localhost:8080/",
          "height": 72
        }
      },
      "source": [
        "import pandas as pd\n",
        "import numpy as np\n",
        "import matplotlib.pyplot as plt\n",
        "import seaborn as sns\n",
        "sns.set_palette('Set1')\n",
        "from sklearn.decomposition import PCA\n",
        "from sklearn.preprocessing import StandardScaler"
      ],
      "execution_count": null,
      "outputs": [
        {
          "output_type": "stream",
          "text": [
            "/usr/local/lib/python3.6/dist-packages/statsmodels/tools/_testing.py:19: FutureWarning: pandas.util.testing is deprecated. Use the functions in the public API at pandas.testing instead.\n",
            "  import pandas.util.testing as tm\n"
          ],
          "name": "stderr"
        }
      ]
    },
    {
      "cell_type": "markdown",
      "metadata": {
        "id": "e1VFxD09GHKz"
      },
      "source": [
        "**Pandas**: Open source data analysis and manipulation tool for Python. Industry standard.\n",
        "\n",
        "**NumPy (Numerical Python)**: Open source tool for working with arrays, matrices, linear algebra, and other numerical operations in Python.\n",
        "\n",
        "**Matplotlib**: Open source data visualization tool for creating plots, graphs, and other visuals. Typically used for more basic visuals.\n",
        "\n",
        "**Seaborn**: Another open source data visualization tool in Python. Has more variety than matplotlib and comparatively simpler syntax. "
      ]
    },
    {
      "cell_type": "markdown",
      "metadata": {
        "id": "I_s0E7n6Dqap"
      },
      "source": [
        "### Pre-Set Functions and Variables\n",
        "\n",
        "No need to worry about understanding this code! Just be sure to run it before running anything else. "
      ]
    },
    {
      "cell_type": "code",
      "metadata": {
        "id": "-p4jvEFpDpgE"
      },
      "source": [
        "# Data file path\n",
        "url = 'https://drive.google.com/file/d/1KSqsf0s6_GuumpLdLP7owLk2AMJA-Qyl/view?usp=sharing'\n",
        "file_path = 'https://drive.google.com/uc?export=download&id='+url.split('/')[-2]\n",
        "\n",
        "# Relevant columns\n",
        "audio_feature_cols = ['danceability', 'energy', 'key', 'loudness', 'mode', \n",
        "                      'speechiness', 'acousticness', 'instrumentalness',\n",
        "                      'liveness', 'valence', 'tempo', 'duration_ms',\n",
        "                      'time_signature']"
      ],
      "execution_count": null,
      "outputs": []
    },
    {
      "cell_type": "markdown",
      "metadata": {
        "id": "55R2-zjdZtGD"
      },
      "source": [
        "### Load the Data"
      ]
    },
    {
      "cell_type": "markdown",
      "metadata": {
        "id": "cx_E3u1kKlOP"
      },
      "source": [
        "Pandas lets you easily read in a CSV file as a **DataFrame**, the primary dat astructure for pandas. It is essentially a table where each record is a row with different features as columns."
      ]
    },
    {
      "cell_type": "code",
      "metadata": {
        "id": "WdxtXUa2W93J"
      },
      "source": [
        "tracks_df = __.________(file_path)"
      ],
      "execution_count": null,
      "outputs": []
    },
    {
      "cell_type": "markdown",
      "metadata": {
        "id": "wTpXYSQuZuvG"
      },
      "source": [
        "### Display Head and Summary"
      ]
    },
    {
      "cell_type": "markdown",
      "metadata": {
        "id": "ygHJ5DeWLi_9"
      },
      "source": [
        "After reading in the data, we want to make sure we've read it in correctly.\n",
        "\n",
        "This is most easily done by displaying the head, or top, of the DataFrame."
      ]
    },
    {
      "cell_type": "code",
      "metadata": {
        "id": "7TxSy81aXGlO"
      },
      "source": [
        "tracks_df.______"
      ],
      "execution_count": null,
      "outputs": []
    },
    {
      "cell_type": "markdown",
      "metadata": {
        "id": "hXvmz1FCLya8"
      },
      "source": [
        "Another way to get a good, quick overview of the data is to look at the summary description. This can give us an idea of whether or not the range of values for numerical data makes sense or how much data is missing for a particular column."
      ]
    },
    {
      "cell_type": "code",
      "metadata": {
        "id": "_egCMvN4XJdE"
      },
      "source": [
        "tracks_df.__________"
      ],
      "execution_count": null,
      "outputs": []
    },
    {
      "cell_type": "markdown",
      "metadata": {
        "id": "SoisxyI_aF8M"
      },
      "source": [
        "### Display Data Types"
      ]
    },
    {
      "cell_type": "markdown",
      "metadata": {
        "id": "vPcvNhP6OWu7"
      },
      "source": [
        "It's also helpful to make sure the columns were read in as the correct data types as some functions and analyses can only be done with certain types."
      ]
    },
    {
      "cell_type": "code",
      "metadata": {
        "id": "LFFg9HAgXPd1"
      },
      "source": [
        "tracks_df._____"
      ],
      "execution_count": null,
      "outputs": []
    },
    {
      "cell_type": "markdown",
      "metadata": {
        "id": "hjh7Wx57Olu3"
      },
      "source": [
        "* **float64**: Decimal number\n",
        "* **int64**: Integer (whole) number\n",
        "* **object**: String with alphanumeric characters, not treated as a number"
      ]
    },
    {
      "cell_type": "markdown",
      "metadata": {
        "id": "OILrzH6GZyXE"
      },
      "source": [
        "### Small Note about Cleaning"
      ]
    },
    {
      "cell_type": "markdown",
      "metadata": {
        "id": "l2asYUwiPPIq"
      },
      "source": [
        "Data will often be in a format that's hard to work with or will have errors.  A large portion of data science work involves cleaning or restructuring data for proper use. \n",
        "\n",
        "In this workshop, we will be using data that has already been cleaned and structured in the way we want it. \n"
      ]
    },
    {
      "cell_type": "markdown",
      "metadata": {
        "id": "ZbT0BXdPZ01a"
      },
      "source": [
        "### High Level Exploratory Data Analysis Charts\n",
        "\n"
      ]
    },
    {
      "cell_type": "markdown",
      "metadata": {
        "id": "HPsjLjm4XjJS"
      },
      "source": [
        "#### Distribution Plots\n",
        "\n",
        "Such plots are an easy way to quickly gain important information about a numerical data features. The visualization gives us an idea about what the most common values are, how spread out they are, what the complete range is, and what might be some outliers.\n"
      ]
    },
    {
      "cell_type": "markdown",
      "metadata": {
        "id": "f52K5ZFpYIOd"
      },
      "source": [
        "##### Dancibility"
      ]
    },
    {
      "cell_type": "code",
      "metadata": {
        "id": "xQ6rBmVyXTXL"
      },
      "source": [
        "# matplotlib histogram / distribution plot for dancebility\n",
        "plt.___(tracks_df['__'])\n",
        "\n",
        "# Title and labels\n",
        "plt._____('Histogram of Track Danceability') #plot title\n",
        "plt.______('danceability') #x-axis label\n",
        "plt.______('tracks') #y-axis label"
      ],
      "execution_count": null,
      "outputs": []
    },
    {
      "cell_type": "markdown",
      "metadata": {
        "id": "LuSU-sXUIxnL"
      },
      "source": [
        "Takeaways"
      ]
    },
    {
      "cell_type": "markdown",
      "metadata": {
        "id": "MsPvMc8RhUMN"
      },
      "source": [
        "##### Acousticness"
      ]
    },
    {
      "cell_type": "code",
      "metadata": {
        "id": "abIvHiiBXdHt"
      },
      "source": [
        "# matplotlib histogram / distribution plot for acousticness\n",
        "plt.____(tracks_df['__'])\n",
        "\n",
        "# Title and labels\n",
        "plt._____('Histogram of Track Acousticness') #plot title\n",
        "plt.______('acousticness') #x-axis label\n",
        "plt.______('tracks') #y-axis label"
      ],
      "execution_count": null,
      "outputs": []
    },
    {
      "cell_type": "markdown",
      "metadata": {
        "id": "dOaw6bq7hKEu"
      },
      "source": [
        "Takeaways"
      ]
    },
    {
      "cell_type": "markdown",
      "metadata": {
        "id": "X3HVaEjgb5nu"
      },
      "source": [
        "##### Tempo"
      ]
    },
    {
      "cell_type": "code",
      "metadata": {
        "id": "3qWI8g8bXoNj"
      },
      "source": [
        "# matplotlib scatter plot for loudness\n",
        "plt._______(tracks_df['__'], tracks_df['__'], alpha = 0.7)\n",
        "\n",
        "# Title and labels\n",
        "plt._____(\"Scatterplot of Energy and Loudness\") #plot title\n",
        "plt._____(\"Energy\") #x-axis label\n",
        "plt._____(\"Loudness\") #y-axis label"
      ],
      "execution_count": null,
      "outputs": []
    },
    {
      "cell_type": "markdown",
      "metadata": {
        "id": "Xeha-ZViHnMh"
      },
      "source": [
        "Takeaways"
      ]
    },
    {
      "cell_type": "markdown",
      "metadata": {
        "id": "jfCZksowIJNN"
      },
      "source": [
        "#### Correlation\n",
        "\n",
        "Scatterplots of two variables can help us visualize the relationship between them. If two variables are highly correlated (or related), we might consider only using one of them in our model. "
      ]
    },
    {
      "cell_type": "code",
      "metadata": {
        "id": "Qs-DWn_8IMGe"
      },
      "source": [
        "# matplotlib scatter plot for loudness\n",
        "plt._______(tracks_df['__'], tracks_df['__'], alpha = 0.7)\n",
        "\n",
        "# Title and labels\n",
        "plt._____(\"Scatterplot of Energy and Loudness\") #plot title\n",
        "plt._____(\"Energy\") #x-axis label\n",
        "plt._____(\"Loudness\") #y-axis label"
      ],
      "execution_count": null,
      "outputs": []
    },
    {
      "cell_type": "markdown",
      "metadata": {
        "id": "OtzbFqAqcGXY"
      },
      "source": [
        "### Dimensionality Reduction\n",
        "In the graph above, we were able to visualize the relationship between two variables, energy and loudness. However, our dataset has thirteen variables containing audio information. That's a lot of data to try to visualize at once. Thus, a common tactic is to reduce the *dimension* of the data in some way. "
      ]
    },
    {
      "cell_type": "markdown",
      "metadata": {
        "id": "9tNl4ROVlAcd"
      },
      "source": [
        "#### Principal Components Analysis\n",
        "The first method we're going to try is called Principal Components Analysis (PCA). \n",
        "\n",
        "Because we are using functionality that is not a part of the base Python, we need to import additional libraries."
      ]
    },
    {
      "cell_type": "code",
      "metadata": {
        "id": "BdVpu-Zqk4ES"
      },
      "source": [
        "from sklearn.decomposition import PCA\n",
        "from sklearn.preprocessing import StandardScaler"
      ],
      "execution_count": null,
      "outputs": []
    },
    {
      "cell_type": "markdown",
      "metadata": {
        "id": "m6PxJNNElnPE"
      },
      "source": [
        "##### PCA Function\n",
        "We've already written and run function for performing the PCA and visualizing the first two principal components as it's easiest for people to visualize data using two or three dimensions. It was already run in code above."
      ]
    },
    {
      "cell_type": "code",
      "metadata": {
        "id": "QELJFb0slnfb"
      },
      "source": [
        "# Put this up with other functions\n",
        "\n",
        "rs = 123\n",
        "np.random.seed(rs)\n",
        "\n",
        "def pca_plot(df, classes=None):\n",
        "\n",
        "    # Scale data for PCA\n",
        "    scaled_df = StandardScaler().fit_transform(df)\n",
        "    \n",
        "    # Fit the PCA and extract the first two components\n",
        "    pca_results = PCA().fit_transform(scaled_df)\n",
        "    pca1_scores = pca_results[:,0]\n",
        "    pca2_scores = pca_results[:,1]\n",
        "    \n",
        "    # Sort the legend labels\n",
        "    if classes is None:\n",
        "      hue_order = None\n",
        "      n_classes = 0\n",
        "    elif str(classes[0]).isnumeric():\n",
        "      classes = ['Cluster {}'.format(x) for x in classes]\n",
        "      hue_order = sorted(classes)\n",
        "      n_classes = np.max(np.unique(classes).shape)\n",
        "    else:\n",
        "      hue_order = sorted(classes)\n",
        "      n_classes = np.max(np.unique(classes).shape)\n",
        "\n",
        "    # Plot the first two principal components\n",
        "    plt.figure(figsize=(8.5,8.5))\n",
        "    plt.grid()\n",
        "    sns.scatterplot(pca1_scores,pca2_scores, s=50, hue=classes,\n",
        "                    hue_order=hue_order)\n",
        "    plt.xlabel(\"Principal Component {}\".format(1))\n",
        "    plt.ylabel(\"Principal Component {}\".format(2))\n",
        "    plt.title('Principal Component Plot')\n",
        "    plt.show()"
      ],
      "execution_count": null,
      "outputs": []
    },
    {
      "cell_type": "markdown",
      "metadata": {
        "id": "ipa9invjmqEc"
      },
      "source": [
        "##### Principal Component Plot"
      ]
    },
    {
      "cell_type": "code",
      "metadata": {
        "id": "AjFpXuoSHy3V"
      },
      "source": [
        "pca_plot(_______)"
      ],
      "execution_count": null,
      "outputs": []
    },
    {
      "cell_type": "markdown",
      "metadata": {
        "id": "wpw2ewK9XzBh"
      },
      "source": [
        "Takeways"
      ]
    },
    {
      "cell_type": "markdown",
      "metadata": {
        "id": "O10MqRdTnH3f"
      },
      "source": [
        "## Next Session\n",
        "Session 2: Practical Data Science in Python  \n",
        "Thursday, October 1 | 1:30pm - 2:45pm PDT  \n",
        "https://careermingle2020.sched.com/event/dtq3\n",
        "\n",
        "Our next session will be a live coding demo continuing our Spotify case study. We will:\n",
        "* Introduce a common unsupervised learning technique, k-means clustering, to classify songs by similarity. \n",
        "* Create visuals using k-means clustering to see groupings\n",
        "* Test our results!"
      ]
    }
  ]
}
