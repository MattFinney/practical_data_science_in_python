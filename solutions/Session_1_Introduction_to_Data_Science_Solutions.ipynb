{
  "nbformat": 4,
  "nbformat_minor": 0,
  "metadata": {
    "colab": {
      "name": "Session 1: Introduction to Data Science (Solutions)",
      "provenance": [],
      "collapsed_sections": []
    },
    "kernelspec": {
      "name": "python3",
      "display_name": "Python 3"
    }
  },
  "cells": [
    {
      "cell_type": "markdown",
      "metadata": {
        "id": "xjLDJlqUSSrw"
      },
      "source": [
        "<a href=\"https://colab.research.google.com/github/MattFinney/practical_data_science_in_python/blob/main/solutions/Session_1_Introduction_to_Data_Science_Solutions.ipynb\" target=\"_parent\"><img src=\"https://colab.research.google.com/assets/colab-badge.svg\" alt=\"Open In Colab\"/><a>\n",
        "\n",
        "# Introduction to Data Science\n",
        "## Core Concepts and Exploratory Data Analysis\n",
        "Authors: Paulina Toro Isaza, Matthew Finney\n"
      ]
    },
    {
      "cell_type": "markdown",
      "metadata": {
        "id": "J8V_m32NjX8q"
      },
      "source": [
        "---"
      ]
    },
    {
      "cell_type": "markdown",
      "metadata": {
        "id": "2VvXMpWESnEb"
      },
      "source": [
        "## Agenda\n",
        "\n",
        "1.   What is Data Science?\n",
        "2.   Concepts and Methods\n",
        "3.   Deep Dive: Music Recommendation\n",
        "4.   Demo: Exploratory Data Analysis in Python"
      ]
    },
    {
      "cell_type": "markdown",
      "metadata": {
        "id": "Rdt3Ygx9jaaI"
      },
      "source": [
        "---"
      ]
    },
    {
      "cell_type": "markdown",
      "metadata": {
        "id": "G7GxJ5LLTDJi"
      },
      "source": [
        "## What is Data Science?\n",
        "\n",
        "![image.png](https://imgur.com/maii0F6.png)\n",
        "\n",
        "\n",
        "Source: [A New Venn Diagram by Pierluigi Casale](https://open-dse.github.io/new-venn-diagram/)\n",
        "\n"
      ]
    },
    {
      "cell_type": "markdown",
      "metadata": {
        "id": "rwES8MoFlps7"
      },
      "source": [
        "### The Data Science Process\n",
        "\n",
        "![data_iceberg.png](https://imgur.com/pxivm3x.png)\n",
        "\n",
        "1. Formulate your Question\n",
        "2. Get, Clean, and Transform the Data\n",
        "3. Explore the Data\n",
        "4. Model the Data\n",
        "5. Communicate the Results"
      ]
    },
    {
      "cell_type": "markdown",
      "metadata": {
        "id": "T8rBdMBvjNtR"
      },
      "source": [
        "### Applications\n",
        "\n",
        "*   Why does a video or meme go viral?\n",
        "*   How can we better identify and predict disease?\n",
        "*   Recommendation systems for music, movies, and other products\n",
        "*   Language translation"
      ]
    },
    {
      "cell_type": "markdown",
      "metadata": {
        "id": "51kqschjjbvJ"
      },
      "source": [
        "---"
      ]
    },
    {
      "cell_type": "markdown",
      "metadata": {
        "id": "V0NwrYbcVvZJ"
      },
      "source": [
        "## Concepts, Methods, and Applications\n"
      ]
    },
    {
      "cell_type": "markdown",
      "metadata": {
        "id": "CFYVlGJ3Ztx1"
      },
      "source": [
        "### Concepts\n",
        "\n",
        "#### Predicting vs. Explaining\n",
        "\n",
        "**Predicting**: Estimate some value based on input data.\n",
        "\n",
        "> What will be the box office opening for a film?\n",
        "\n",
        "**Explaining**: Determine how factors affect a particular outcome.\n",
        "\n",
        "> What factors influence the box office opening of a film?  \n",
        "\n",
        "---\n",
        "\n",
        "#### Supervised vs. Unsupervised\n",
        "\n",
        "**Supervised**: We know the \"true\" values of our output data.\n",
        "\n",
        "> What is the genre of a book?\n",
        "\n",
        "In the supervised case, each book will already be assigned a particular genre such as mystery, romance, fantasy, or memoir. Our model will be taught to predict the genre and our predictions will be compared to the \"true\" genre.\n",
        "\n",
        "**Unsupervised**: We don't know the \"true\" values of our output data.\n",
        "\n",
        "> What groupings differentiate between types of books best?\n",
        "\n",
        "In the unsupervised case, our books are not already labelled with a genre. Instead, our model will try to create it's own labels based on whatever characteristics we pass in. Our results might mimic traditional genres or might show some unexpected groupings that challenge our notion of traditional genres!\n",
        "\n",
        "--- \n",
        "\n",
        "#### Regression vs. Classification\n",
        "\n",
        "**Regression**: The response variable for what we are trying to predict or explain is numerical. \n",
        "\n",
        "> How many views do we expect a particular YouTube video to have based on its title, thumbnail, subscriber count for the channel, and view count of the previous video on the channel?\n",
        "\n",
        "**Classification**: The response variable for what we are trying to predict or explain is categorical. \n",
        "\n",
        "> How can we predict that a YouTube video is not suitable for children under 13 based on title and thumbnail?\n"
      ]
    },
    {
      "cell_type": "markdown",
      "metadata": {
        "id": "fj0IQxiRLYdh"
      },
      "source": [
        "---"
      ]
    },
    {
      "cell_type": "markdown",
      "metadata": {
        "id": "pc4BtR6ejKTB"
      },
      "source": [
        "### Methods\n",
        "\n",
        "![methods.png](https://imgur.com/7mlirpP.png)"
      ]
    },
    {
      "cell_type": "markdown",
      "metadata": {
        "id": "e8V6kSq61eSo"
      },
      "source": [
        "---"
      ]
    },
    {
      "cell_type": "markdown",
      "metadata": {
        "id": "yZcByp0YZ0Jg"
      },
      "source": [
        "## Deep Dive: Music Recommendation\n",
        "\n",
        "### Context\n",
        "\n",
        "What happens when you reach the end of a playlist on platforms like Spotify or Youtube? Do you find yourself skipping the next song or did the platform give you a good follow-up to what you were listening to?\n",
        "\n",
        "### Goal: How can we use data science methods to create playlists of similar songs?\n",
        "\n",
        "#### Methods\n",
        "\n",
        "**Unsupervised learning**: Our dataset does not contain any information about playlists or genres, so data is unlabeled. We don't know the \"true\" values of the genre or playlist.\n",
        "\n",
        "**Dimension Reduction**: Our dataset contains about a dozen audio features used to describe a single song. Because it's hard to visualize information in more than three dimensions, we might want to reduce the number of dimensions in some way. \n",
        "\n",
        "**Classification**: This might sound like a classification problem because we want to classify songs as belonging to different playlists (genres). However, we usually talk about classification methods as those done in supervised learning.\n",
        "\n",
        "**Clustering**: We'll be using this machine learning algorithm to partition the dataset into a pre-defined number of groups. The partitions do no rely on knowing the \"true\" values of the groups.\n",
        "\n"
      ]
    },
    {
      "cell_type": "markdown",
      "metadata": {
        "id": "ufNBSfNpLbsy"
      },
      "source": [
        "---"
      ]
    },
    {
      "cell_type": "markdown",
      "metadata": {
        "id": "eh2N-E5hZ35b"
      },
      "source": [
        "## Demo: Exploratory Data Analysis in Python"
      ]
    },
    {
      "cell_type": "markdown",
      "metadata": {
        "id": "-Wje56IXZpdx"
      },
      "source": [
        "#### Importing Libraries"
      ]
    },
    {
      "cell_type": "markdown",
      "metadata": {
        "id": "ASiKzSCUHqZm"
      },
      "source": [
        "We need to tell Python what kind of functionality we want for our code. Instead of loading every single possible functionality, Python works by *importing* particular libraries so that we only have access to what's necessary.\n",
        "\n",
        "There are many libraries such as those working with websites, audio, or social networks. But ince we are going to be working with data, we want to only import data related libraries. "
      ]
    },
    {
      "cell_type": "code",
      "metadata": {
        "id": "5gZQIUYe8Mr0"
      },
      "source": [
        "import pandas as pd\n",
        "import numpy as np\n",
        "import matplotlib.pyplot as plt\n",
        "import seaborn as sns\n",
        "sns.set_palette('Set1')\n",
        "from sklearn.decomposition import PCA\n",
        "from sklearn.preprocessing import StandardScaler"
      ],
      "execution_count": 1,
      "outputs": []
    },
    {
      "cell_type": "markdown",
      "metadata": {
        "id": "e1VFxD09GHKz"
      },
      "source": [
        "**Pandas**: Open source data analysis and manipulation tool for Python. Industry standard.\n",
        "\n",
        "**NumPy (Numerical Python)**: Open source tool for working with arrays, matrices, linear algebra, and other numerical operations in Python.\n",
        "\n",
        "**Matplotlib**: Open source data visualization tool for creating plots, graphs, and other visuals. Typically used for more basic visuals.\n",
        "\n",
        "**Seaborn**: Another open source data visualization tool in Python. Has more variety than matplotlib and comparatively simpler syntax. "
      ]
    },
    {
      "cell_type": "markdown",
      "metadata": {
        "id": "I_s0E7n6Dqap"
      },
      "source": [
        "### Pre-Set Functions and Variables\n",
        "\n",
        "No need to worry about understanding this code! Just be sure to run it before running anything else. "
      ]
    },
    {
      "cell_type": "code",
      "metadata": {
        "id": "-p4jvEFpDpgE"
      },
      "source": [
        "# Data file path\n",
        "file_path = 'https://raw.githubusercontent.com/MattFinney/practical_data_science_in_python/main/spotify_track_data.csv'\n",
        "\n",
        "# Relevant columns\n",
        "audio_feature_cols = ['danceability', 'energy', 'key', 'loudness', 'mode', \n",
        "                      'speechiness', 'acousticness', 'instrumentalness',\n",
        "                      'liveness', 'valence', 'tempo', 'duration_ms',\n",
        "                      'time_signature']"
      ],
      "execution_count": 2,
      "outputs": []
    },
    {
      "cell_type": "markdown",
      "metadata": {
        "id": "55R2-zjdZtGD"
      },
      "source": [
        "### Load the Data"
      ]
    },
    {
      "cell_type": "markdown",
      "metadata": {
        "id": "cx_E3u1kKlOP"
      },
      "source": [
        "Pandas lets you easily read in a CSV file as a **DataFrame**, the primary dat astructure for pandas. It is essentially a table where each record is a row with different features as columns."
      ]
    },
    {
      "cell_type": "code",
      "metadata": {
        "id": "EOgPYs8GDj0M"
      },
      "source": [
        "tracks_df = pd.read_csv(file_path)"
      ],
      "execution_count": 3,
      "outputs": []
    },
    {
      "cell_type": "markdown",
      "metadata": {
        "id": "wTpXYSQuZuvG"
      },
      "source": [
        "### Display Head and Summary"
      ]
    },
    {
      "cell_type": "markdown",
      "metadata": {
        "id": "ygHJ5DeWLi_9"
      },
      "source": [
        "After reading in the data, we want to make sure we've read it in correctly.\n",
        "\n",
        "This is most easily done by displaying the head, or top, of the DataFrame."
      ]
    },
    {
      "cell_type": "code",
      "metadata": {
        "id": "FjDaO0kiLuxw",
        "outputId": "fbc34ec1-6be8-4682-a42e-b955f1b7a73b",
        "colab": {
          "base_uri": "https://localhost:8080/",
          "height": 360
        }
      },
      "source": [
        "tracks_df.head()"
      ],
      "execution_count": 4,
      "outputs": [
        {
          "output_type": "execute_result",
          "data": {
            "text/html": [
              "<div>\n",
              "<style scoped>\n",
              "    .dataframe tbody tr th:only-of-type {\n",
              "        vertical-align: middle;\n",
              "    }\n",
              "\n",
              "    .dataframe tbody tr th {\n",
              "        vertical-align: top;\n",
              "    }\n",
              "\n",
              "    .dataframe thead th {\n",
              "        text-align: right;\n",
              "    }\n",
              "</style>\n",
              "<table border=\"1\" class=\"dataframe\">\n",
              "  <thead>\n",
              "    <tr style=\"text-align: right;\">\n",
              "      <th></th>\n",
              "      <th>danceability</th>\n",
              "      <th>energy</th>\n",
              "      <th>key</th>\n",
              "      <th>loudness</th>\n",
              "      <th>mode</th>\n",
              "      <th>speechiness</th>\n",
              "      <th>acousticness</th>\n",
              "      <th>instrumentalness</th>\n",
              "      <th>liveness</th>\n",
              "      <th>valence</th>\n",
              "      <th>tempo</th>\n",
              "      <th>type</th>\n",
              "      <th>id</th>\n",
              "      <th>track_href</th>\n",
              "      <th>analysis_url</th>\n",
              "      <th>duration_ms</th>\n",
              "      <th>time_signature</th>\n",
              "      <th>preview_url</th>\n",
              "      <th>cover_url</th>\n",
              "      <th>name</th>\n",
              "      <th>artist</th>\n",
              "    </tr>\n",
              "  </thead>\n",
              "  <tbody>\n",
              "    <tr>\n",
              "      <th>0</th>\n",
              "      <td>0.753</td>\n",
              "      <td>0.704</td>\n",
              "      <td>5</td>\n",
              "      <td>-5.562</td>\n",
              "      <td>1</td>\n",
              "      <td>0.0843</td>\n",
              "      <td>0.259</td>\n",
              "      <td>0.143000</td>\n",
              "      <td>0.1030</td>\n",
              "      <td>0.800</td>\n",
              "      <td>93.951</td>\n",
              "      <td>audio_features</td>\n",
              "      <td>4Z9npQ93MrnIkRcTBKwSa3</td>\n",
              "      <td>https://api.spotify.com/v1/tracks/4Z9npQ93MrnI...</td>\n",
              "      <td>https://api.spotify.com/v1/audio-analysis/4Z9n...</td>\n",
              "      <td>91465</td>\n",
              "      <td>4</td>\n",
              "      <td>https://p.scdn.co/mp3-preview/1fa0d4bcb13eba09...</td>\n",
              "      <td>https://i.scdn.co/image/ab67616d0000b273a31dd5...</td>\n",
              "      <td>Looks</td>\n",
              "      <td>Steve Lacy</td>\n",
              "    </tr>\n",
              "    <tr>\n",
              "      <th>1</th>\n",
              "      <td>0.646</td>\n",
              "      <td>0.286</td>\n",
              "      <td>2</td>\n",
              "      <td>-12.361</td>\n",
              "      <td>1</td>\n",
              "      <td>0.0380</td>\n",
              "      <td>0.073</td>\n",
              "      <td>0.000020</td>\n",
              "      <td>0.0325</td>\n",
              "      <td>0.158</td>\n",
              "      <td>77.161</td>\n",
              "      <td>audio_features</td>\n",
              "      <td>4AyF3otW64PCw45b1ENW77</td>\n",
              "      <td>https://api.spotify.com/v1/tracks/4AyF3otW64PC...</td>\n",
              "      <td>https://api.spotify.com/v1/audio-analysis/4AyF...</td>\n",
              "      <td>330033</td>\n",
              "      <td>4</td>\n",
              "      <td>https://p.scdn.co/mp3-preview/09a0f6ff0da6c292...</td>\n",
              "      <td>https://i.scdn.co/image/ab67616d0000b273d3444f...</td>\n",
              "      <td>Fruitflies</td>\n",
              "      <td>Gabriel Garzón-Montano</td>\n",
              "    </tr>\n",
              "    <tr>\n",
              "      <th>2</th>\n",
              "      <td>0.658</td>\n",
              "      <td>0.294</td>\n",
              "      <td>4</td>\n",
              "      <td>-8.533</td>\n",
              "      <td>0</td>\n",
              "      <td>0.0321</td>\n",
              "      <td>0.422</td>\n",
              "      <td>0.000052</td>\n",
              "      <td>0.0749</td>\n",
              "      <td>0.358</td>\n",
              "      <td>74.038</td>\n",
              "      <td>audio_features</td>\n",
              "      <td>7zFXmv6vqI4qOt4yGf3jYZ</td>\n",
              "      <td>https://api.spotify.com/v1/tracks/7zFXmv6vqI4q...</td>\n",
              "      <td>https://api.spotify.com/v1/audio-analysis/7zFX...</td>\n",
              "      <td>278180</td>\n",
              "      <td>4</td>\n",
              "      <td>https://p.scdn.co/mp3-preview/004e53a751e628eb...</td>\n",
              "      <td>https://i.scdn.co/image/ab67616d0000b2733138f8...</td>\n",
              "      <td>Get You (feat. Kali Uchis)</td>\n",
              "      <td>Daniel Caesar</td>\n",
              "    </tr>\n",
              "    <tr>\n",
              "      <th>3</th>\n",
              "      <td>0.741</td>\n",
              "      <td>0.562</td>\n",
              "      <td>8</td>\n",
              "      <td>-4.739</td>\n",
              "      <td>0</td>\n",
              "      <td>0.0867</td>\n",
              "      <td>0.226</td>\n",
              "      <td>0.000062</td>\n",
              "      <td>0.0596</td>\n",
              "      <td>0.707</td>\n",
              "      <td>77.477</td>\n",
              "      <td>audio_features</td>\n",
              "      <td>1d3RMBeBUq9frA2GRJRUA0</td>\n",
              "      <td>https://api.spotify.com/v1/tracks/1d3RMBeBUq9f...</td>\n",
              "      <td>https://api.spotify.com/v1/audio-analysis/1d3R...</td>\n",
              "      <td>255267</td>\n",
              "      <td>4</td>\n",
              "      <td>https://p.scdn.co/mp3-preview/0bfd44fe314d4a38...</td>\n",
              "      <td>https://i.scdn.co/image/ab67616d0000b273bc734b...</td>\n",
              "      <td>The Distance</td>\n",
              "      <td>Gavin Turek</td>\n",
              "    </tr>\n",
              "    <tr>\n",
              "      <th>4</th>\n",
              "      <td>0.772</td>\n",
              "      <td>0.256</td>\n",
              "      <td>7</td>\n",
              "      <td>-8.545</td>\n",
              "      <td>0</td>\n",
              "      <td>0.0481</td>\n",
              "      <td>0.491</td>\n",
              "      <td>0.006120</td>\n",
              "      <td>0.1440</td>\n",
              "      <td>0.357</td>\n",
              "      <td>118.902</td>\n",
              "      <td>audio_features</td>\n",
              "      <td>2k9N4caeCIJLOWwWwssrEM</td>\n",
              "      <td>https://api.spotify.com/v1/tracks/2k9N4caeCIJL...</td>\n",
              "      <td>https://api.spotify.com/v1/audio-analysis/2k9N...</td>\n",
              "      <td>210240</td>\n",
              "      <td>3</td>\n",
              "      <td>https://p.scdn.co/mp3-preview/553a07ba23de1814...</td>\n",
              "      <td>https://i.scdn.co/image/ab67616d0000b273e6dfae...</td>\n",
              "      <td>Easily</td>\n",
              "      <td>Bruno Major</td>\n",
              "    </tr>\n",
              "  </tbody>\n",
              "</table>\n",
              "</div>"
            ],
            "text/plain": [
              "   danceability  energy  ...                        name                  artist\n",
              "0         0.753   0.704  ...                       Looks              Steve Lacy\n",
              "1         0.646   0.286  ...                  Fruitflies  Gabriel Garzón-Montano\n",
              "2         0.658   0.294  ...  Get You (feat. Kali Uchis)           Daniel Caesar\n",
              "3         0.741   0.562  ...                The Distance             Gavin Turek\n",
              "4         0.772   0.256  ...                      Easily             Bruno Major\n",
              "\n",
              "[5 rows x 21 columns]"
            ]
          },
          "metadata": {
            "tags": []
          },
          "execution_count": 4
        }
      ]
    },
    {
      "cell_type": "markdown",
      "metadata": {
        "id": "hXvmz1FCLya8"
      },
      "source": [
        "Another way to get a good, quick overview of the data is to look at the summary description. This can give us an idea of whether or not the range of values for numerical data makes sense or how much data is missing for a particular column."
      ]
    },
    {
      "cell_type": "code",
      "metadata": {
        "id": "XwworrT1MDmU",
        "outputId": "3134ecb7-a2a8-4af5-92e5-b4cc10e79ad5",
        "colab": {
          "base_uri": "https://localhost:8080/",
          "height": 297
        }
      },
      "source": [
        "tracks_df.describe()"
      ],
      "execution_count": 5,
      "outputs": [
        {
          "output_type": "execute_result",
          "data": {
            "text/html": [
              "<div>\n",
              "<style scoped>\n",
              "    .dataframe tbody tr th:only-of-type {\n",
              "        vertical-align: middle;\n",
              "    }\n",
              "\n",
              "    .dataframe tbody tr th {\n",
              "        vertical-align: top;\n",
              "    }\n",
              "\n",
              "    .dataframe thead th {\n",
              "        text-align: right;\n",
              "    }\n",
              "</style>\n",
              "<table border=\"1\" class=\"dataframe\">\n",
              "  <thead>\n",
              "    <tr style=\"text-align: right;\">\n",
              "      <th></th>\n",
              "      <th>danceability</th>\n",
              "      <th>energy</th>\n",
              "      <th>key</th>\n",
              "      <th>loudness</th>\n",
              "      <th>mode</th>\n",
              "      <th>speechiness</th>\n",
              "      <th>acousticness</th>\n",
              "      <th>instrumentalness</th>\n",
              "      <th>liveness</th>\n",
              "      <th>valence</th>\n",
              "      <th>tempo</th>\n",
              "      <th>duration_ms</th>\n",
              "      <th>time_signature</th>\n",
              "    </tr>\n",
              "  </thead>\n",
              "  <tbody>\n",
              "    <tr>\n",
              "      <th>count</th>\n",
              "      <td>268.000000</td>\n",
              "      <td>268.000000</td>\n",
              "      <td>268.000000</td>\n",
              "      <td>268.000000</td>\n",
              "      <td>268.000000</td>\n",
              "      <td>268.000000</td>\n",
              "      <td>268.000000</td>\n",
              "      <td>268.000000</td>\n",
              "      <td>268.000000</td>\n",
              "      <td>268.000000</td>\n",
              "      <td>268.000000</td>\n",
              "      <td>268.000000</td>\n",
              "      <td>268.000000</td>\n",
              "    </tr>\n",
              "    <tr>\n",
              "      <th>mean</th>\n",
              "      <td>0.496892</td>\n",
              "      <td>0.442840</td>\n",
              "      <td>4.791045</td>\n",
              "      <td>-15.511903</td>\n",
              "      <td>0.664179</td>\n",
              "      <td>0.321713</td>\n",
              "      <td>0.775393</td>\n",
              "      <td>0.388100</td>\n",
              "      <td>0.333891</td>\n",
              "      <td>0.337711</td>\n",
              "      <td>106.850634</td>\n",
              "      <td>219700.410448</td>\n",
              "      <td>3.679104</td>\n",
              "    </tr>\n",
              "    <tr>\n",
              "      <th>std</th>\n",
              "      <td>0.148682</td>\n",
              "      <td>0.375186</td>\n",
              "      <td>3.487967</td>\n",
              "      <td>9.750280</td>\n",
              "      <td>0.473160</td>\n",
              "      <td>0.392849</td>\n",
              "      <td>0.277984</td>\n",
              "      <td>0.450423</td>\n",
              "      <td>0.323365</td>\n",
              "      <td>0.207374</td>\n",
              "      <td>32.842679</td>\n",
              "      <td>112690.727886</td>\n",
              "      <td>0.698857</td>\n",
              "    </tr>\n",
              "    <tr>\n",
              "      <th>min</th>\n",
              "      <td>0.125000</td>\n",
              "      <td>0.001960</td>\n",
              "      <td>0.000000</td>\n",
              "      <td>-34.755000</td>\n",
              "      <td>0.000000</td>\n",
              "      <td>0.027500</td>\n",
              "      <td>0.000342</td>\n",
              "      <td>0.000000</td>\n",
              "      <td>0.032500</td>\n",
              "      <td>0.047800</td>\n",
              "      <td>57.906000</td>\n",
              "      <td>34507.000000</td>\n",
              "      <td>1.000000</td>\n",
              "    </tr>\n",
              "    <tr>\n",
              "      <th>25%</th>\n",
              "      <td>0.395750</td>\n",
              "      <td>0.046450</td>\n",
              "      <td>1.000000</td>\n",
              "      <td>-25.812250</td>\n",
              "      <td>0.000000</td>\n",
              "      <td>0.040475</td>\n",
              "      <td>0.716000</td>\n",
              "      <td>0.000000</td>\n",
              "      <td>0.101000</td>\n",
              "      <td>0.181000</td>\n",
              "      <td>80.199000</td>\n",
              "      <td>148550.000000</td>\n",
              "      <td>3.000000</td>\n",
              "    </tr>\n",
              "    <tr>\n",
              "      <th>50%</th>\n",
              "      <td>0.488000</td>\n",
              "      <td>0.384500</td>\n",
              "      <td>5.000000</td>\n",
              "      <td>-11.152500</td>\n",
              "      <td>1.000000</td>\n",
              "      <td>0.052750</td>\n",
              "      <td>0.857000</td>\n",
              "      <td>0.001017</td>\n",
              "      <td>0.116000</td>\n",
              "      <td>0.284000</td>\n",
              "      <td>103.487500</td>\n",
              "      <td>190432.500000</td>\n",
              "      <td>4.000000</td>\n",
              "    </tr>\n",
              "    <tr>\n",
              "      <th>75%</th>\n",
              "      <td>0.574000</td>\n",
              "      <td>0.848500</td>\n",
              "      <td>8.000000</td>\n",
              "      <td>-7.051500</td>\n",
              "      <td>1.000000</td>\n",
              "      <td>0.878250</td>\n",
              "      <td>0.992000</td>\n",
              "      <td>0.932000</td>\n",
              "      <td>0.676750</td>\n",
              "      <td>0.453250</td>\n",
              "      <td>127.187750</td>\n",
              "      <td>255493.500000</td>\n",
              "      <td>4.000000</td>\n",
              "    </tr>\n",
              "    <tr>\n",
              "      <th>max</th>\n",
              "      <td>0.897000</td>\n",
              "      <td>0.993000</td>\n",
              "      <td>11.000000</td>\n",
              "      <td>-2.306000</td>\n",
              "      <td>1.000000</td>\n",
              "      <td>0.960000</td>\n",
              "      <td>0.996000</td>\n",
              "      <td>0.966000</td>\n",
              "      <td>0.974000</td>\n",
              "      <td>0.974000</td>\n",
              "      <td>205.477000</td>\n",
              "      <td>987267.000000</td>\n",
              "      <td>5.000000</td>\n",
              "    </tr>\n",
              "  </tbody>\n",
              "</table>\n",
              "</div>"
            ],
            "text/plain": [
              "       danceability      energy  ...    duration_ms  time_signature\n",
              "count    268.000000  268.000000  ...     268.000000      268.000000\n",
              "mean       0.496892    0.442840  ...  219700.410448        3.679104\n",
              "std        0.148682    0.375186  ...  112690.727886        0.698857\n",
              "min        0.125000    0.001960  ...   34507.000000        1.000000\n",
              "25%        0.395750    0.046450  ...  148550.000000        3.000000\n",
              "50%        0.488000    0.384500  ...  190432.500000        4.000000\n",
              "75%        0.574000    0.848500  ...  255493.500000        4.000000\n",
              "max        0.897000    0.993000  ...  987267.000000        5.000000\n",
              "\n",
              "[8 rows x 13 columns]"
            ]
          },
          "metadata": {
            "tags": []
          },
          "execution_count": 5
        }
      ]
    },
    {
      "cell_type": "markdown",
      "metadata": {
        "id": "SoisxyI_aF8M"
      },
      "source": [
        "### Display Data Types"
      ]
    },
    {
      "cell_type": "markdown",
      "metadata": {
        "id": "vPcvNhP6OWu7"
      },
      "source": [
        "It's also helpful to make sure the columns were read in as the correct data types as some functions and analyses can only be done with certain types."
      ]
    },
    {
      "cell_type": "code",
      "metadata": {
        "id": "F0rz70vyOpMW",
        "outputId": "be188c04-0670-4903-d908-8da91998e354",
        "colab": {
          "base_uri": "https://localhost:8080/",
          "height": 391
        }
      },
      "source": [
        "tracks_df.dtypes"
      ],
      "execution_count": 6,
      "outputs": [
        {
          "output_type": "execute_result",
          "data": {
            "text/plain": [
              "danceability        float64\n",
              "energy              float64\n",
              "key                   int64\n",
              "loudness            float64\n",
              "mode                  int64\n",
              "speechiness         float64\n",
              "acousticness        float64\n",
              "instrumentalness    float64\n",
              "liveness            float64\n",
              "valence             float64\n",
              "tempo               float64\n",
              "type                 object\n",
              "id                   object\n",
              "track_href           object\n",
              "analysis_url         object\n",
              "duration_ms           int64\n",
              "time_signature        int64\n",
              "preview_url          object\n",
              "cover_url            object\n",
              "name                 object\n",
              "artist               object\n",
              "dtype: object"
            ]
          },
          "metadata": {
            "tags": []
          },
          "execution_count": 6
        }
      ]
    },
    {
      "cell_type": "markdown",
      "metadata": {
        "id": "hjh7Wx57Olu3"
      },
      "source": [
        "* **float64**: Decimal number\n",
        "* **int64**: Integer (whole) number\n",
        "* **object**: String with alphanumeric characters, not treated as a number"
      ]
    },
    {
      "cell_type": "markdown",
      "metadata": {
        "id": "OILrzH6GZyXE"
      },
      "source": [
        "### Small Note about Cleaning"
      ]
    },
    {
      "cell_type": "markdown",
      "metadata": {
        "id": "l2asYUwiPPIq"
      },
      "source": [
        "Data will often be in a format that's hard to work with or will have errors.  A large portion of data science work involves cleaning or restructuring data for proper use. \n",
        "\n",
        "In this workshop, we will be using data that has already been cleaned and structured in the way we want it. \n"
      ]
    },
    {
      "cell_type": "markdown",
      "metadata": {
        "id": "ZbT0BXdPZ01a"
      },
      "source": [
        "### High Level Exploratory Data Analysis Charts\n",
        "\n"
      ]
    },
    {
      "cell_type": "markdown",
      "metadata": {
        "id": "HPsjLjm4XjJS"
      },
      "source": [
        "#### Distribution Plots\n",
        "\n",
        "Such plots are an easy way to quickly gain important information about a numerical data features. The visualization gives us an idea about what the most common values are, how spread out they are, what the complete range is, and what might be some outliers.\n"
      ]
    },
    {
      "cell_type": "markdown",
      "metadata": {
        "id": "f52K5ZFpYIOd"
      },
      "source": [
        "##### Dancibility"
      ]
    },
    {
      "cell_type": "code",
      "metadata": {
        "id": "vNaft3pbXhg2",
        "outputId": "12e08f7b-a4dc-4f6f-d324-97f3393f022e",
        "colab": {
          "base_uri": "https://localhost:8080/",
          "height": 312
        }
      },
      "source": [
        "# matplotlib histogram / distribution plot\n",
        "plt.hist(tracks_df['danceability'])\n",
        "\n",
        "# Title and labels\n",
        "plt.title('Histogram of Track Danceability')\n",
        "plt.xlabel('danceability')\n",
        "plt.ylabel('tracks')"
      ],
      "execution_count": 7,
      "outputs": [
        {
          "output_type": "execute_result",
          "data": {
            "text/plain": [
              "Text(0, 0.5, 'tracks')"
            ]
          },
          "metadata": {
            "tags": []
          },
          "execution_count": 7
        },
        {
          "output_type": "display_data",
          "data": {
            "image/png": "[encoded data removed]",
            "text/plain": [
              "<Figure size 432x288 with 1 Axes>"
            ]
          },
          "metadata": {
            "tags": [],
            "needs_background": "light"
          }
        }
      ]
    },
    {
      "cell_type": "markdown",
      "metadata": {
        "id": "eCDrD-sOg-Ff"
      },
      "source": [
        "Takeaways\n"
      ]
    },
    {
      "cell_type": "markdown",
      "metadata": {
        "id": "MsPvMc8RhUMN"
      },
      "source": [
        "##### Acousticness"
      ]
    },
    {
      "cell_type": "code",
      "metadata": {
        "id": "hUfs-hf7g-Td",
        "outputId": "c8f20d9b-39a5-414d-8eac-bd20c7586842",
        "colab": {
          "base_uri": "https://localhost:8080/",
          "height": 312
        }
      },
      "source": [
        "# matplotlib histogram / distribution plot\n",
        "plt.hist(tracks_df['acousticness'])\n",
        "\n",
        "# Title and labels\n",
        "plt.title('Histogram of Track Acousticness')\n",
        "plt.xlabel('acousticness')\n",
        "plt.ylabel('tracks')"
      ],
      "execution_count": 8,
      "outputs": [
        {
          "output_type": "execute_result",
          "data": {
            "text/plain": [
              "Text(0, 0.5, 'tracks')"
            ]
          },
          "metadata": {
            "tags": []
          },
          "execution_count": 8
        },
        {
          "output_type": "display_data",
          "data": {
            "image/png": "[encoded data removed]",
            "text/plain": [
              "<Figure size 432x288 with 1 Axes>"
            ]
          },
          "metadata": {
            "tags": [],
            "needs_background": "light"
          }
        }
      ]
    },
    {
      "cell_type": "markdown",
      "metadata": {
        "id": "dOaw6bq7hKEu"
      },
      "source": [
        "Takeaways"
      ]
    },
    {
      "cell_type": "markdown",
      "metadata": {
        "id": "nJH_SxEUiMXS"
      },
      "source": [
        "##### Tempo"
      ]
    },
    {
      "cell_type": "code",
      "metadata": {
        "id": "PPgw63EAiNWM",
        "outputId": "49848931-62ee-4d21-c561-03e8bdcd6691",
        "colab": {
          "base_uri": "https://localhost:8080/",
          "height": 312
        }
      },
      "source": [
        "# matplotlib histogram / distribution plot\n",
        "plt.hist(tracks_df['tempo'])\n",
        "\n",
        "# Title and labels\n",
        "plt.title('Histogram of Track Tempo')\n",
        "plt.xlabel('tempo')\n",
        "plt.ylabel('tracks')"
      ],
      "execution_count": 9,
      "outputs": [
        {
          "output_type": "execute_result",
          "data": {
            "text/plain": [
              "Text(0, 0.5, 'tracks')"
            ]
          },
          "metadata": {
            "tags": []
          },
          "execution_count": 9
        },
        {
          "output_type": "display_data",
          "data": {
            "image/png": "[encoded data removed]",
            "text/plain": [
              "<Figure size 432x288 with 1 Axes>"
            ]
          },
          "metadata": {
            "tags": [],
            "needs_background": "light"
          }
        }
      ]
    },
    {
      "cell_type": "markdown",
      "metadata": {
        "id": "X3HVaEjgb5nu"
      },
      "source": [
        "#### Correlation\n",
        "\n",
        "Scatterplots of two variables can help us visualize the relationship between them. If two variables are highly correlated (or related), we might consider only using one of them in our model. \n"
      ]
    },
    {
      "cell_type": "code",
      "metadata": {
        "id": "iiW97qhXjF-X",
        "outputId": "a59e1023-87c4-468b-ed56-311a32961c7b",
        "colab": {
          "base_uri": "https://localhost:8080/",
          "height": 312
        }
      },
      "source": [
        "# matplotlib scatter plot\n",
        "plt.scatter(tracks_df['energy'], tracks_df['loudness'], alpha = 0.7)\n",
        "\n",
        "# Title and labels\n",
        "plt.title(\"Scatterplot of Energy and Loudness\")\n",
        "plt.xlabel(\"Energy\")\n",
        "plt.ylabel(\"Loudness\")"
      ],
      "execution_count": 10,
      "outputs": [
        {
          "output_type": "execute_result",
          "data": {
            "text/plain": [
              "Text(0, 0.5, 'Loudness')"
            ]
          },
          "metadata": {
            "tags": []
          },
          "execution_count": 10
        },
        {
          "output_type": "display_data",
          "data": {
            "image/png": "[encoded data removed]",
            "text/plain": [
              "<Figure size 432x288 with 1 Axes>"
            ]
          },
          "metadata": {
            "tags": [],
            "needs_background": "light"
          }
        }
      ]
    },
    {
      "cell_type": "markdown",
      "metadata": {
        "id": "OtzbFqAqcGXY"
      },
      "source": [
        "### Dimensionality Reduction\n",
        "In the graph above, we were able to visualize the relationship between two variables, energy and loudness. However, our dataset has thirteen variables containing audio information. That's a lot of data to try to visualize at once. Thus, a common tactic is to reduce the *dimension* of the data in some way. "
      ]
    },
    {
      "cell_type": "markdown",
      "metadata": {
        "id": "9tNl4ROVlAcd"
      },
      "source": [
        "#### Principal Components Analysis\n",
        "The first method we're going to try is called Principal Components Analysis (PCA). \n",
        "\n",
        "Because we are using functionality that is not a part of the base Python, we need to import additional libraries."
      ]
    },
    {
      "cell_type": "code",
      "metadata": {
        "id": "BdVpu-Zqk4ES"
      },
      "source": [
        "from sklearn.decomposition import PCA\n",
        "from sklearn.preprocessing import StandardScaler"
      ],
      "execution_count": 11,
      "outputs": []
    },
    {
      "cell_type": "markdown",
      "metadata": {
        "id": "m6PxJNNElnPE"
      },
      "source": [
        "##### PCA Function\n",
        "We've already written and run function for performing the PCA and visualizing the first two principal components as it's easiest for people to visualize data using two or three dimensions. It was already run in code above."
      ]
    },
    {
      "cell_type": "code",
      "metadata": {
        "id": "QELJFb0slnfb"
      },
      "source": [
        "# Put this up with other functions\n",
        "\n",
        "rs = 123\n",
        "np.random.seed(rs)\n",
        "\n",
        "def pca_plot(df, classes=None):\n",
        "\n",
        "    # Scale data for PCA\n",
        "    scaled_df = StandardScaler().fit_transform(df)\n",
        "    \n",
        "    # Fit the PCA and extract the first two components\n",
        "    pca_results = PCA().fit_transform(scaled_df)\n",
        "    pca1_scores = pca_results[:,0]\n",
        "    pca2_scores = pca_results[:,1]\n",
        "    \n",
        "    # Sort the legend labels\n",
        "    if classes is None:\n",
        "      hue_order = None\n",
        "      n_classes = 0\n",
        "    elif str(classes[0]).isnumeric():\n",
        "      classes = ['Cluster {}'.format(x) for x in classes]\n",
        "      hue_order = sorted(classes)\n",
        "      n_classes = np.max(np.unique(classes).shape)\n",
        "    else:\n",
        "      hue_order = sorted(classes)\n",
        "      n_classes = np.max(np.unique(classes).shape)\n",
        "\n",
        "    # Plot the first two principal components\n",
        "    plt.figure(figsize=(8.5,8.5))\n",
        "    plt.grid()\n",
        "    sns.scatterplot(pca1_scores,pca2_scores, s=50, hue=classes,\n",
        "                    hue_order=hue_order)\n",
        "    plt.xlabel(\"Principal Component {}\".format(1))\n",
        "    plt.ylabel(\"Principal Component {}\".format(2))\n",
        "    plt.title('Principal Component Plot')\n",
        "    plt.show()"
      ],
      "execution_count": 12,
      "outputs": []
    },
    {
      "cell_type": "markdown",
      "metadata": {
        "id": "ipa9invjmqEc"
      },
      "source": [
        "##### Principal Component Plot"
      ]
    },
    {
      "cell_type": "code",
      "metadata": {
        "id": "hkNc5a1lmn9H",
        "outputId": "a10f3be1-8c27-4e84-9023-c4a1807e4e00",
        "colab": {
          "base_uri": "https://localhost:8080/",
          "height": 594
        }
      },
      "source": [
        "pca_plot(tracks_df[audio_feature_cols])"
      ],
      "execution_count": 13,
      "outputs": [
        {
          "output_type": "stream",
          "text": [
            "/usr/local/lib/python3.6/dist-packages/seaborn/_decorators.py:43: FutureWarning: Pass the following variables as keyword args: x, y. From version 0.12, the only valid positional argument will be `data`, and passing other arguments without an explicit keyword will result in an error or misinterpretation.\n",
            "  FutureWarning\n"
          ],
          "name": "stderr"
        },
        {
          "output_type": "display_data",
          "data": {
            "image/png": "[encoded data removed]",
            "text/plain": [
              "<Figure size 612x612 with 1 Axes>"
            ]
          },
          "metadata": {
            "tags": [],
            "needs_background": "light"
          }
        }
      ]
    },
    {
      "cell_type": "markdown",
      "metadata": {
        "id": "wpw2ewK9XzBh"
      },
      "source": [
        "Takeways"
      ]
    },
    {
      "cell_type": "markdown",
      "metadata": {
        "id": "O10MqRdTnH3f"
      },
      "source": [
        "## Next Session\n",
        "Session 2: Practical Data Science in Python  \n",
        "Thursday, October 1 | 1:30pm - 2:45pm PDT  \n",
        "https://careermingle2020.sched.com/event/dtq3\n",
        "\n",
        "Our next session will be a live coding demo continuing our Spotify case study. We will:\n",
        "* Introduce a common unsupervised learning technique, k-means clustering, to classify songs by similarity. \n",
        "* Create visuals using k-means clustering to see groupings\n",
        "* Test our results!"
      ]
    }
  ]
}